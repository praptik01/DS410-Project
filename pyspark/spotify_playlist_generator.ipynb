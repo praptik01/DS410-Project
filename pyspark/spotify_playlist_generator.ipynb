{
 "cells": [
  {
   "cell_type": "markdown",
   "id": "6c796af5-5c7e-40b6-a1d5-73697f5721a2",
   "metadata": {},
   "source": [
    "# Import Libraries"
   ]
  },
  {
   "cell_type": "code",
   "execution_count": 1,
   "id": "ffd17e40-34cb-41ad-8888-9a8c77538f91",
   "metadata": {},
   "outputs": [
    {
     "name": "stderr",
     "output_type": "stream",
     "text": [
      "/storage/home/ask6023/.local/lib/python3.9/site-packages/pandas/core/computation/expressions.py:21: UserWarning: Pandas requires version '2.8.4' or newer of 'numexpr' (version '2.7.3' currently installed).\n",
      "  from pandas.core.computation.check import NUMEXPR_INSTALLED\n",
      "/storage/home/ask6023/.local/lib/python3.9/site-packages/pandas/core/arrays/masked.py:61: UserWarning: Pandas requires version '1.3.6' or newer of 'bottleneck' (version '1.3.2' currently installed).\n",
      "  from pandas.core import (\n"
     ]
    }
   ],
   "source": [
    "import pyspark\n",
    "import pandas as pd\n",
    "import numpy as np\n",
    "import math"
   ]
  },
  {
   "cell_type": "code",
   "execution_count": 2,
   "id": "4969b22b-188c-40c5-b8ed-0facb867b1a8",
   "metadata": {},
   "outputs": [
    {
     "name": "stderr",
     "output_type": "stream",
     "text": [
      "/storage/icds/RISE/sw8/anaconda/anaconda3/lib/python3.9/site-packages/scipy/__init__.py:146: UserWarning: A NumPy version >=1.16.5 and <1.23.0 is required for this version of SciPy (detected version 1.24.1\n",
      "  warnings.warn(f\"A NumPy version >={np_minversion} and <{np_maxversion}\"\n"
     ]
    }
   ],
   "source": [
    "from pyspark import SparkContext\n",
    "from pyspark.sql import SparkSession\n",
    "from pyspark.sql.types import StructField, StructType, StringType, LongType, IntegerType, FloatType\n",
    "from pyspark.sql.functions import col, column\n",
    "from pyspark.sql.functions import expr\n",
    "from pyspark.sql.functions import split\n",
    "from pyspark.sql import Row"
   ]
  },
  {
   "cell_type": "markdown",
   "id": "d8f8656d-9c81-45e3-9ff2-ea45e97e49a3",
   "metadata": {},
   "source": [
    "# Create SparkSessions and SparkContext"
   ]
  },
  {
   "cell_type": "code",
   "execution_count": 3,
   "id": "a9ce1498-cfa0-4984-99b2-9f2bf00f6beb",
   "metadata": {},
   "outputs": [
    {
     "name": "stderr",
     "output_type": "stream",
     "text": [
      "WARNING: Using incubator modules: jdk.incubator.vector\n",
      "Using Spark's default log4j profile: org/apache/spark/log4j2-defaults.properties\n",
      "Setting default log level to \"WARN\".\n",
      "To adjust logging level use sc.setLogLevel(newLevel). For SparkR, use setLogLevel(newLevel).\n",
      "25/10/02 17:20:25 WARN NativeCodeLoader: Unable to load native-hadoop library for your platform... using builtin-java classes where applicable\n"
     ]
    }
   ],
   "source": [
    "ss=SparkSession.builder.master(\"local\").appName(\"Spotify Playlist Generator\").getOrCreate()"
   ]
  },
  {
   "cell_type": "code",
   "execution_count": 4,
   "id": "b333ab8f-6fd1-4f2b-8837-b056bd5ae998",
   "metadata": {
    "tags": []
   },
   "outputs": [],
   "source": [
    "ss.sparkContext.setCheckpointDir(\"~/scratch\")"
   ]
  },
  {
   "cell_type": "markdown",
   "id": "8135b8e7-a967-4625-8cc1-913f79846782",
   "metadata": {},
   "source": [
    "# Read Data"
   ]
  },
  {
   "cell_type": "code",
   "execution_count": 6,
   "id": "1e2202fa-3d5d-4fdf-b38a-8bccb7675a30",
   "metadata": {},
   "outputs": [
    {
     "name": "stderr",
     "output_type": "stream",
     "text": [
      "                                                                                \r"
     ]
    }
   ],
   "source": [
    "spotify_DF = ss.read.csv(\"spotify_dataset.csv\", header=True, inferSchema=True)"
   ]
  },
  {
   "cell_type": "code",
   "execution_count": 7,
   "id": "5ab1bc5b-b443-4a24-acd9-d24be135f6c9",
   "metadata": {},
   "outputs": [
    {
     "name": "stdout",
     "output_type": "stream",
     "text": [
      "root\n",
      " |-- Artist(s): string (nullable = true)\n",
      " |-- song: string (nullable = true)\n",
      " |-- text: string (nullable = true)\n",
      " |-- Length: string (nullable = true)\n",
      " |-- emotion: string (nullable = true)\n",
      " |-- Genre: string (nullable = true)\n",
      " |-- Album: string (nullable = true)\n",
      " |-- Release Date: string (nullable = true)\n",
      " |-- Key: string (nullable = true)\n",
      " |-- Tempo: string (nullable = true)\n",
      " |-- Loudness (db): string (nullable = true)\n",
      " |-- Time signature: string (nullable = true)\n",
      " |-- Explicit: string (nullable = true)\n",
      " |-- Popularity: string (nullable = true)\n",
      " |-- Energy: string (nullable = true)\n",
      " |-- Danceability: string (nullable = true)\n",
      " |-- Positiveness: string (nullable = true)\n",
      " |-- Speechiness: string (nullable = true)\n",
      " |-- Liveness: string (nullable = true)\n",
      " |-- Acousticness: string (nullable = true)\n",
      " |-- Instrumentalness: string (nullable = true)\n",
      " |-- Good for Party: string (nullable = true)\n",
      " |-- Good for Work/Study: string (nullable = true)\n",
      " |-- Good for Relaxation/Meditation: string (nullable = true)\n",
      " |-- Good for Exercise: string (nullable = true)\n",
      " |-- Good for Running: string (nullable = true)\n",
      " |-- Good for Yoga/Stretching: string (nullable = true)\n",
      " |-- Good for Driving: string (nullable = true)\n",
      " |-- Good for Social Gatherings: string (nullable = true)\n",
      " |-- Good for Morning Routine: string (nullable = true)\n",
      " |-- Similar Artist 1: string (nullable = true)\n",
      " |-- Similar Song 1: string (nullable = true)\n",
      " |-- Similarity Score 1: string (nullable = true)\n",
      " |-- Similar Artist 2: string (nullable = true)\n",
      " |-- Similar Song 2: string (nullable = true)\n",
      " |-- Similarity Score 2: string (nullable = true)\n",
      " |-- Similar Artist 3: string (nullable = true)\n",
      " |-- Similar Song 3: string (nullable = true)\n",
      " |-- Similarity Score 3: string (nullable = true)\n",
      "\n"
     ]
    }
   ],
   "source": [
    "spotify_DF.printSchema()"
   ]
  },
  {
   "cell_type": "code",
   "execution_count": 8,
   "id": "03ea0d24-e7ad-4a2c-a899-43715d3acef7",
   "metadata": {},
   "outputs": [
    {
     "name": "stderr",
     "output_type": "stream",
     "text": [
      "25/10/02 17:24:09 WARN SparkStringUtils: Truncated the string representation of a plan since it was too large. This behavior can be adjusted by setting 'spark.sql.debug.maxToStringFields'.\n"
     ]
    },
    {
     "data": {
      "text/plain": [
       "Row(Artist(s)='!!!', song='Even When the Waters Cold', text='\"Friends told her she was better off at the bottom of a river Than in a bed with him He said \"\"Until you try both', Length=' you won\\'t know what you like better Why don\\'t we go for a swim?\"\" Well', emotion=\" friends told her this and friends told her that But friends don't choose what echoes in your head When she got bored with all the idle chit-and-chat Kept thinking 'bout what he said  I'll swim even when the water's cold That's the one thing that I know Even when the water's cold  She remembers it fondly\", Genre=\" she doesn't remember it all But what she does\", Album=' she sees clearly She lost his number', Release Date=' and he never called But all she really lost was an earring The other\\'s in a box with others she has lost I wonder if she still hears me  I\\'ll swim even when the water\\'s cold That\\'s the one thing that I know Even when the water\\'s cold If you believe in love You know that sometimes it isn\\'t Do you believe in love? Then save the bullshit questions Sometimes it is and sometimes it isn\\'t Sometimes it\\'s just how the light hits their eyes Do you believe in love?\"', Key='03:47', Tempo='sadness', Loudness (db)='hip hop', Time signature='Thr!!!er', Explicit='29th April 2013', Popularity='D min', Energy='105', Danceability='-6.85db', Positiveness='4/4', Speechiness='No', Liveness='40', Acousticness='83', Instrumentalness='71', Good for Party='87', Good for Work/Study='4', Good for Relaxation/Meditation='16', Good for Exercise='11', Good for Running='0', Good for Yoga/Stretching='0', Good for Driving='0', Good for Social Gatherings='0', Good for Morning Routine='0', Similar Artist 1='0', Similar Song 1='0', Similarity Score 1='0', Similar Artist 2='0', Similar Song 2='0', Similarity Score 2='Corey Smith', Similar Artist 3='If I Could Do It Again', Similar Song 3='0.9860607848219312', Similarity Score 3='Toby Keith')"
      ]
     },
     "execution_count": 8,
     "metadata": {},
     "output_type": "execute_result"
    }
   ],
   "source": [
    "spotify_DF.first()"
   ]
  },
  {
   "cell_type": "code",
   "execution_count": null,
   "id": "08248602-361d-4765-9fb4-02f614b86283",
   "metadata": {},
   "outputs": [],
   "source": [
    "ss.stop()"
   ]
  }
 ],
 "metadata": {
  "kernelspec": {
   "display_name": "Python (ds410_f25)",
   "language": "python",
   "name": "ds410_f25"
  },
  "language_info": {
   "codemirror_mode": {
    "name": "ipython",
    "version": 3
   },
   "file_extension": ".py",
   "mimetype": "text/x-python",
   "name": "python",
   "nbconvert_exporter": "python",
   "pygments_lexer": "ipython3",
   "version": "3.9.7"
  }
 },
 "nbformat": 4,
 "nbformat_minor": 5
}
